{
 "cells": [
  {
   "cell_type": "markdown",
   "metadata": {},
   "source": [
    "# ML Capstone Project E-Commerce"
   ]
  },
  {
   "cell_type": "markdown",
   "metadata": {},
   "source": [
    "### Import Libreries"
   ]
  },
  {
   "cell_type": "code",
   "execution_count": 1,
   "metadata": {},
   "outputs": [
    {
     "name": "stdout",
     "output_type": "stream",
     "text": [
      "Requirement already satisfied: scikit-learn in c:\\dataana\\ml_capstone_e-commerce_analytics\\.env\\lib\\site-packages (1.4.2)\n",
      "Requirement already satisfied: numpy>=1.19.5 in c:\\dataana\\ml_capstone_e-commerce_analytics\\.env\\lib\\site-packages (from scikit-learn) (1.26.4)\n",
      "Requirement already satisfied: scipy>=1.6.0 in c:\\dataana\\ml_capstone_e-commerce_analytics\\.env\\lib\\site-packages (from scikit-learn) (1.13.0)\n",
      "Requirement already satisfied: joblib>=1.2.0 in c:\\dataana\\ml_capstone_e-commerce_analytics\\.env\\lib\\site-packages (from scikit-learn) (1.4.0)\n",
      "Requirement already satisfied: threadpoolctl>=2.0.0 in c:\\dataana\\ml_capstone_e-commerce_analytics\\.env\\lib\\site-packages (from scikit-learn) (3.4.0)\n"
     ]
    }
   ],
   "source": [
    "! pip install scikit-learn"
   ]
  },
  {
   "cell_type": "code",
   "execution_count": 3,
   "metadata": {},
   "outputs": [],
   "source": [
    "import numpy as np\n",
    "import pandas as pd\n",
    "import matplotlib.pyplot as plt\n",
    "import seaborn as sn"
   ]
  },
  {
   "cell_type": "markdown",
   "metadata": {},
   "source": [
    "## Introduction"
   ]
  },
  {
   "cell_type": "markdown",
   "metadata": {},
   "source": [
    "The electronics store's dataset focuses on customer purchase history, aiming to improve marketing strategies and customer experience in its e-commerce platform. By analyzing this data, the store aims to better understand customer behaviors and preferences, ultimately increasing sales and fostering customer loyalty through targeted marketing and enhanced user experience."
   ]
  },
  {
   "cell_type": "markdown",
   "metadata": {},
   "source": [
    "## Business Problem "
   ]
  },
  {
   "cell_type": "markdown",
   "metadata": {},
   "source": [
    "Based on the data, we aim to refine marketing strategies by identifying customer preferences and behavior patterns. Additionally, we seek to improve customer experience through personalized recommendations and streamlined purchasing processes."
   ]
  },
  {
   "cell_type": "markdown",
   "metadata": {},
   "source": [
    "## Data Dictionary"
   ]
  },
  {
   "cell_type": "code",
   "execution_count": 4,
   "metadata": {},
   "outputs": [
    {
     "data": {
      "text/html": [
       "<div>\n",
       "<style scoped>\n",
       "    .dataframe tbody tr th:only-of-type {\n",
       "        vertical-align: middle;\n",
       "    }\n",
       "\n",
       "    .dataframe tbody tr th {\n",
       "        vertical-align: top;\n",
       "    }\n",
       "\n",
       "    .dataframe thead th {\n",
       "        text-align: right;\n",
       "    }\n",
       "</style>\n",
       "<table border=\"1\" class=\"dataframe\">\n",
       "  <thead>\n",
       "    <tr style=\"text-align: right;\">\n",
       "      <th></th>\n",
       "      <th>Column_Name</th>\n",
       "      <th>Description</th>\n",
       "    </tr>\n",
       "  </thead>\n",
       "  <tbody>\n",
       "    <tr>\n",
       "      <th>0</th>\n",
       "      <td>event_time</td>\n",
       "      <td>Represents the timestamp indicating the occur...</td>\n",
       "    </tr>\n",
       "    <tr>\n",
       "      <th>1</th>\n",
       "      <td>order_id</td>\n",
       "      <td>A unique identifier assigned to each order fa...</td>\n",
       "    </tr>\n",
       "    <tr>\n",
       "      <th>2</th>\n",
       "      <td>product_id</td>\n",
       "      <td>Unique identification for each product purcha...</td>\n",
       "    </tr>\n",
       "    <tr>\n",
       "      <th>3</th>\n",
       "      <td>category_id</td>\n",
       "      <td>An exclusive identifier for the category of e...</td>\n",
       "    </tr>\n",
       "    <tr>\n",
       "      <th>4</th>\n",
       "      <td>category_code</td>\n",
       "      <td>Possibly a textual or descriptive representat...</td>\n",
       "    </tr>\n",
       "    <tr>\n",
       "      <th>5</th>\n",
       "      <td>brand</td>\n",
       "      <td>Signifies the brand of the product important ...</td>\n",
       "    </tr>\n",
       "    <tr>\n",
       "      <th>6</th>\n",
       "      <td>price</td>\n",
       "      <td>The selling price of the product. Essential f...</td>\n",
       "    </tr>\n",
       "    <tr>\n",
       "      <th>7</th>\n",
       "      <td>user_id</td>\n",
       "      <td>A distinctive identifier assigned to each cus...</td>\n",
       "    </tr>\n",
       "  </tbody>\n",
       "</table>\n",
       "</div>"
      ],
      "text/plain": [
       "     Column_Name                                        Description\n",
       "0     event_time   Represents the timestamp indicating the occur...\n",
       "1       order_id   A unique identifier assigned to each order fa...\n",
       "2     product_id   Unique identification for each product purcha...\n",
       "3    category_id   An exclusive identifier for the category of e...\n",
       "4  category_code   Possibly a textual or descriptive representat...\n",
       "5          brand   Signifies the brand of the product important ...\n",
       "6          price   The selling price of the product. Essential f...\n",
       "7        user_id   A distinctive identifier assigned to each cus..."
      ]
     },
     "execution_count": 4,
     "metadata": {},
     "output_type": "execute_result"
    }
   ],
   "source": [
    "import pandas as pd\n",
    "# Use a raw string literal or double backslashes in the file path\n",
    "data_dict_path = r'C:\\DataAna\\ML_Capstone_E-commerce_Analytics\\Data\\data-dic.csv'\n",
    "\n",
    "# Read the data dictionary into a pandas DataFrame\n",
    "data_dict = pd.read_csv(data_dict_path)\n",
    "\n",
    "# Display the data dictionary\n",
    "data_dict"
   ]
  },
  {
   "cell_type": "markdown",
   "metadata": {},
   "source": [
    "### Data Ingestion"
   ]
  },
  {
   "cell_type": "code",
   "execution_count": 5,
   "metadata": {},
   "outputs": [
    {
     "data": {
      "text/html": [
       "<div>\n",
       "<style scoped>\n",
       "    .dataframe tbody tr th:only-of-type {\n",
       "        vertical-align: middle;\n",
       "    }\n",
       "\n",
       "    .dataframe tbody tr th {\n",
       "        vertical-align: top;\n",
       "    }\n",
       "\n",
       "    .dataframe thead th {\n",
       "        text-align: right;\n",
       "    }\n",
       "</style>\n",
       "<table border=\"1\" class=\"dataframe\">\n",
       "  <thead>\n",
       "    <tr style=\"text-align: right;\">\n",
       "      <th></th>\n",
       "      <th>event_time</th>\n",
       "      <th>order_id</th>\n",
       "      <th>product_id</th>\n",
       "      <th>category_id</th>\n",
       "      <th>category_code</th>\n",
       "      <th>brand</th>\n",
       "      <th>price</th>\n",
       "      <th>user_id</th>\n",
       "    </tr>\n",
       "  </thead>\n",
       "  <tbody>\n",
       "    <tr>\n",
       "      <th>0</th>\n",
       "      <td>2020-04-24 11:50:39 UTC</td>\n",
       "      <td>2.294360e+18</td>\n",
       "      <td>1.515970e+18</td>\n",
       "      <td>2.268110e+18</td>\n",
       "      <td>electronics.tablet</td>\n",
       "      <td>samsung</td>\n",
       "      <td>162.01</td>\n",
       "      <td>1.515920e+18</td>\n",
       "    </tr>\n",
       "    <tr>\n",
       "      <th>1</th>\n",
       "      <td>2020-04-24 11:50:39 UTC</td>\n",
       "      <td>2.294360e+18</td>\n",
       "      <td>1.515970e+18</td>\n",
       "      <td>2.268110e+18</td>\n",
       "      <td>electronics.tablet</td>\n",
       "      <td>samsung</td>\n",
       "      <td>162.01</td>\n",
       "      <td>1.515920e+18</td>\n",
       "    </tr>\n",
       "    <tr>\n",
       "      <th>2</th>\n",
       "      <td>2020-04-24 14:37:43 UTC</td>\n",
       "      <td>2.294440e+18</td>\n",
       "      <td>2.273950e+18</td>\n",
       "      <td>2.268110e+18</td>\n",
       "      <td>electronics.audio.headphone</td>\n",
       "      <td>huawei</td>\n",
       "      <td>77.52</td>\n",
       "      <td>1.515920e+18</td>\n",
       "    </tr>\n",
       "    <tr>\n",
       "      <th>3</th>\n",
       "      <td>2020-04-24 14:37:43 UTC</td>\n",
       "      <td>2.294440e+18</td>\n",
       "      <td>2.273950e+18</td>\n",
       "      <td>2.268110e+18</td>\n",
       "      <td>electronics.audio.headphone</td>\n",
       "      <td>huawei</td>\n",
       "      <td>77.52</td>\n",
       "      <td>1.515920e+18</td>\n",
       "    </tr>\n",
       "    <tr>\n",
       "      <th>4</th>\n",
       "      <td>2020-04-24 19:16:21 UTC</td>\n",
       "      <td>2.294580e+18</td>\n",
       "      <td>2.273950e+18</td>\n",
       "      <td>2.268110e+18</td>\n",
       "      <td>NaN</td>\n",
       "      <td>karcher</td>\n",
       "      <td>217.57</td>\n",
       "      <td>1.515920e+18</td>\n",
       "    </tr>\n",
       "    <tr>\n",
       "      <th>...</th>\n",
       "      <td>...</td>\n",
       "      <td>...</td>\n",
       "      <td>...</td>\n",
       "      <td>...</td>\n",
       "      <td>...</td>\n",
       "      <td>...</td>\n",
       "      <td>...</td>\n",
       "      <td>...</td>\n",
       "    </tr>\n",
       "    <tr>\n",
       "      <th>1048570</th>\n",
       "      <td>2020-05-12 07:16:25 UTC</td>\n",
       "      <td>2.353220e+18</td>\n",
       "      <td>1.515970e+18</td>\n",
       "      <td>NaN</td>\n",
       "      <td>57.87</td>\n",
       "      <td>NaN</td>\n",
       "      <td>NaN</td>\n",
       "      <td>NaN</td>\n",
       "    </tr>\n",
       "    <tr>\n",
       "      <th>1048571</th>\n",
       "      <td>2020-05-12 07:08:37 UTC</td>\n",
       "      <td>2.353220e+18</td>\n",
       "      <td>1.515970e+18</td>\n",
       "      <td>2.268110e+18</td>\n",
       "      <td>electronics.smartphone</td>\n",
       "      <td>oppo</td>\n",
       "      <td>231.23</td>\n",
       "      <td>NaN</td>\n",
       "    </tr>\n",
       "    <tr>\n",
       "      <th>1048572</th>\n",
       "      <td>2020-05-12 09:11:47 UTC</td>\n",
       "      <td>2.353220e+18</td>\n",
       "      <td>2.273950e+18</td>\n",
       "      <td>2.268110e+18</td>\n",
       "      <td>appliances.kitchen.refrigerators</td>\n",
       "      <td>samsung</td>\n",
       "      <td>520.81</td>\n",
       "      <td>NaN</td>\n",
       "    </tr>\n",
       "    <tr>\n",
       "      <th>1048573</th>\n",
       "      <td>2020-05-12 06:43:09 UTC</td>\n",
       "      <td>2.353220e+18</td>\n",
       "      <td>1.515970e+18</td>\n",
       "      <td>2.268110e+18</td>\n",
       "      <td>NaN</td>\n",
       "      <td>rowenta</td>\n",
       "      <td>55.53</td>\n",
       "      <td>NaN</td>\n",
       "    </tr>\n",
       "    <tr>\n",
       "      <th>1048574</th>\n",
       "      <td>2020-05-12 06:43:09 UTC</td>\n",
       "      <td>2.353220e+18</td>\n",
       "      <td>1.515970e+18</td>\n",
       "      <td>2.268110e+18</td>\n",
       "      <td>NaN</td>\n",
       "      <td>provence</td>\n",
       "      <td>3.91</td>\n",
       "      <td>NaN</td>\n",
       "    </tr>\n",
       "  </tbody>\n",
       "</table>\n",
       "<p>1048575 rows × 8 columns</p>\n",
       "</div>"
      ],
      "text/plain": [
       "                      event_time      order_id    product_id   category_id  \\\n",
       "0        2020-04-24 11:50:39 UTC  2.294360e+18  1.515970e+18  2.268110e+18   \n",
       "1        2020-04-24 11:50:39 UTC  2.294360e+18  1.515970e+18  2.268110e+18   \n",
       "2        2020-04-24 14:37:43 UTC  2.294440e+18  2.273950e+18  2.268110e+18   \n",
       "3        2020-04-24 14:37:43 UTC  2.294440e+18  2.273950e+18  2.268110e+18   \n",
       "4        2020-04-24 19:16:21 UTC  2.294580e+18  2.273950e+18  2.268110e+18   \n",
       "...                          ...           ...           ...           ...   \n",
       "1048570  2020-05-12 07:16:25 UTC  2.353220e+18  1.515970e+18           NaN   \n",
       "1048571  2020-05-12 07:08:37 UTC  2.353220e+18  1.515970e+18  2.268110e+18   \n",
       "1048572  2020-05-12 09:11:47 UTC  2.353220e+18  2.273950e+18  2.268110e+18   \n",
       "1048573  2020-05-12 06:43:09 UTC  2.353220e+18  1.515970e+18  2.268110e+18   \n",
       "1048574  2020-05-12 06:43:09 UTC  2.353220e+18  1.515970e+18  2.268110e+18   \n",
       "\n",
       "                            category_code     brand   price       user_id  \n",
       "0                      electronics.tablet   samsung  162.01  1.515920e+18  \n",
       "1                      electronics.tablet   samsung  162.01  1.515920e+18  \n",
       "2             electronics.audio.headphone    huawei   77.52  1.515920e+18  \n",
       "3             electronics.audio.headphone    huawei   77.52  1.515920e+18  \n",
       "4                                     NaN   karcher  217.57  1.515920e+18  \n",
       "...                                   ...       ...     ...           ...  \n",
       "1048570                             57.87       NaN     NaN           NaN  \n",
       "1048571            electronics.smartphone      oppo  231.23           NaN  \n",
       "1048572  appliances.kitchen.refrigerators   samsung  520.81           NaN  \n",
       "1048573                               NaN   rowenta   55.53           NaN  \n",
       "1048574                               NaN  provence    3.91           NaN  \n",
       "\n",
       "[1048575 rows x 8 columns]"
      ]
     },
     "execution_count": 5,
     "metadata": {},
     "output_type": "execute_result"
    }
   ],
   "source": [
    "data=pd.read_csv(r'C:\\DataAna\\ML_Capstone_E-commerce_Analytics\\Data\\kz.csv')\n",
    "data"
   ]
  },
  {
   "cell_type": "markdown",
   "metadata": {},
   "source": [
    "### Data Understanding"
   ]
  },
  {
   "cell_type": "code",
   "execution_count": 6,
   "metadata": {},
   "outputs": [
    {
     "data": {
      "text/html": [
       "<div>\n",
       "<style scoped>\n",
       "    .dataframe tbody tr th:only-of-type {\n",
       "        vertical-align: middle;\n",
       "    }\n",
       "\n",
       "    .dataframe tbody tr th {\n",
       "        vertical-align: top;\n",
       "    }\n",
       "\n",
       "    .dataframe thead th {\n",
       "        text-align: right;\n",
       "    }\n",
       "</style>\n",
       "<table border=\"1\" class=\"dataframe\">\n",
       "  <thead>\n",
       "    <tr style=\"text-align: right;\">\n",
       "      <th></th>\n",
       "      <th>event_time</th>\n",
       "      <th>order_id</th>\n",
       "      <th>product_id</th>\n",
       "      <th>category_id</th>\n",
       "      <th>category_code</th>\n",
       "      <th>brand</th>\n",
       "      <th>price</th>\n",
       "      <th>user_id</th>\n",
       "    </tr>\n",
       "  </thead>\n",
       "  <tbody>\n",
       "    <tr>\n",
       "      <th>0</th>\n",
       "      <td>2020-04-24 11:50:39 UTC</td>\n",
       "      <td>2.294360e+18</td>\n",
       "      <td>1.515970e+18</td>\n",
       "      <td>2.268110e+18</td>\n",
       "      <td>electronics.tablet</td>\n",
       "      <td>samsung</td>\n",
       "      <td>162.01</td>\n",
       "      <td>1.515920e+18</td>\n",
       "    </tr>\n",
       "    <tr>\n",
       "      <th>1</th>\n",
       "      <td>2020-04-24 11:50:39 UTC</td>\n",
       "      <td>2.294360e+18</td>\n",
       "      <td>1.515970e+18</td>\n",
       "      <td>2.268110e+18</td>\n",
       "      <td>electronics.tablet</td>\n",
       "      <td>samsung</td>\n",
       "      <td>162.01</td>\n",
       "      <td>1.515920e+18</td>\n",
       "    </tr>\n",
       "    <tr>\n",
       "      <th>2</th>\n",
       "      <td>2020-04-24 14:37:43 UTC</td>\n",
       "      <td>2.294440e+18</td>\n",
       "      <td>2.273950e+18</td>\n",
       "      <td>2.268110e+18</td>\n",
       "      <td>electronics.audio.headphone</td>\n",
       "      <td>huawei</td>\n",
       "      <td>77.52</td>\n",
       "      <td>1.515920e+18</td>\n",
       "    </tr>\n",
       "    <tr>\n",
       "      <th>3</th>\n",
       "      <td>2020-04-24 14:37:43 UTC</td>\n",
       "      <td>2.294440e+18</td>\n",
       "      <td>2.273950e+18</td>\n",
       "      <td>2.268110e+18</td>\n",
       "      <td>electronics.audio.headphone</td>\n",
       "      <td>huawei</td>\n",
       "      <td>77.52</td>\n",
       "      <td>1.515920e+18</td>\n",
       "    </tr>\n",
       "    <tr>\n",
       "      <th>4</th>\n",
       "      <td>2020-04-24 19:16:21 UTC</td>\n",
       "      <td>2.294580e+18</td>\n",
       "      <td>2.273950e+18</td>\n",
       "      <td>2.268110e+18</td>\n",
       "      <td>NaN</td>\n",
       "      <td>karcher</td>\n",
       "      <td>217.57</td>\n",
       "      <td>1.515920e+18</td>\n",
       "    </tr>\n",
       "  </tbody>\n",
       "</table>\n",
       "</div>"
      ],
      "text/plain": [
       "                event_time      order_id    product_id   category_id  \\\n",
       "0  2020-04-24 11:50:39 UTC  2.294360e+18  1.515970e+18  2.268110e+18   \n",
       "1  2020-04-24 11:50:39 UTC  2.294360e+18  1.515970e+18  2.268110e+18   \n",
       "2  2020-04-24 14:37:43 UTC  2.294440e+18  2.273950e+18  2.268110e+18   \n",
       "3  2020-04-24 14:37:43 UTC  2.294440e+18  2.273950e+18  2.268110e+18   \n",
       "4  2020-04-24 19:16:21 UTC  2.294580e+18  2.273950e+18  2.268110e+18   \n",
       "\n",
       "                 category_code    brand   price       user_id  \n",
       "0           electronics.tablet  samsung  162.01  1.515920e+18  \n",
       "1           electronics.tablet  samsung  162.01  1.515920e+18  \n",
       "2  electronics.audio.headphone   huawei   77.52  1.515920e+18  \n",
       "3  electronics.audio.headphone   huawei   77.52  1.515920e+18  \n",
       "4                          NaN  karcher  217.57  1.515920e+18  "
      ]
     },
     "execution_count": 6,
     "metadata": {},
     "output_type": "execute_result"
    }
   ],
   "source": [
    "data.head()"
   ]
  },
  {
   "cell_type": "code",
   "execution_count": 7,
   "metadata": {},
   "outputs": [
    {
     "data": {
      "text/html": [
       "<div>\n",
       "<style scoped>\n",
       "    .dataframe tbody tr th:only-of-type {\n",
       "        vertical-align: middle;\n",
       "    }\n",
       "\n",
       "    .dataframe tbody tr th {\n",
       "        vertical-align: top;\n",
       "    }\n",
       "\n",
       "    .dataframe thead th {\n",
       "        text-align: right;\n",
       "    }\n",
       "</style>\n",
       "<table border=\"1\" class=\"dataframe\">\n",
       "  <thead>\n",
       "    <tr style=\"text-align: right;\">\n",
       "      <th></th>\n",
       "      <th>event_time</th>\n",
       "      <th>order_id</th>\n",
       "      <th>product_id</th>\n",
       "      <th>category_id</th>\n",
       "      <th>category_code</th>\n",
       "      <th>brand</th>\n",
       "      <th>price</th>\n",
       "      <th>user_id</th>\n",
       "    </tr>\n",
       "  </thead>\n",
       "  <tbody>\n",
       "    <tr>\n",
       "      <th>1048570</th>\n",
       "      <td>2020-05-12 07:16:25 UTC</td>\n",
       "      <td>2.353220e+18</td>\n",
       "      <td>1.515970e+18</td>\n",
       "      <td>NaN</td>\n",
       "      <td>57.87</td>\n",
       "      <td>NaN</td>\n",
       "      <td>NaN</td>\n",
       "      <td>NaN</td>\n",
       "    </tr>\n",
       "    <tr>\n",
       "      <th>1048571</th>\n",
       "      <td>2020-05-12 07:08:37 UTC</td>\n",
       "      <td>2.353220e+18</td>\n",
       "      <td>1.515970e+18</td>\n",
       "      <td>2.268110e+18</td>\n",
       "      <td>electronics.smartphone</td>\n",
       "      <td>oppo</td>\n",
       "      <td>231.23</td>\n",
       "      <td>NaN</td>\n",
       "    </tr>\n",
       "    <tr>\n",
       "      <th>1048572</th>\n",
       "      <td>2020-05-12 09:11:47 UTC</td>\n",
       "      <td>2.353220e+18</td>\n",
       "      <td>2.273950e+18</td>\n",
       "      <td>2.268110e+18</td>\n",
       "      <td>appliances.kitchen.refrigerators</td>\n",
       "      <td>samsung</td>\n",
       "      <td>520.81</td>\n",
       "      <td>NaN</td>\n",
       "    </tr>\n",
       "    <tr>\n",
       "      <th>1048573</th>\n",
       "      <td>2020-05-12 06:43:09 UTC</td>\n",
       "      <td>2.353220e+18</td>\n",
       "      <td>1.515970e+18</td>\n",
       "      <td>2.268110e+18</td>\n",
       "      <td>NaN</td>\n",
       "      <td>rowenta</td>\n",
       "      <td>55.53</td>\n",
       "      <td>NaN</td>\n",
       "    </tr>\n",
       "    <tr>\n",
       "      <th>1048574</th>\n",
       "      <td>2020-05-12 06:43:09 UTC</td>\n",
       "      <td>2.353220e+18</td>\n",
       "      <td>1.515970e+18</td>\n",
       "      <td>2.268110e+18</td>\n",
       "      <td>NaN</td>\n",
       "      <td>provence</td>\n",
       "      <td>3.91</td>\n",
       "      <td>NaN</td>\n",
       "    </tr>\n",
       "  </tbody>\n",
       "</table>\n",
       "</div>"
      ],
      "text/plain": [
       "                      event_time      order_id    product_id   category_id  \\\n",
       "1048570  2020-05-12 07:16:25 UTC  2.353220e+18  1.515970e+18           NaN   \n",
       "1048571  2020-05-12 07:08:37 UTC  2.353220e+18  1.515970e+18  2.268110e+18   \n",
       "1048572  2020-05-12 09:11:47 UTC  2.353220e+18  2.273950e+18  2.268110e+18   \n",
       "1048573  2020-05-12 06:43:09 UTC  2.353220e+18  1.515970e+18  2.268110e+18   \n",
       "1048574  2020-05-12 06:43:09 UTC  2.353220e+18  1.515970e+18  2.268110e+18   \n",
       "\n",
       "                            category_code     brand   price  user_id  \n",
       "1048570                             57.87       NaN     NaN      NaN  \n",
       "1048571            electronics.smartphone      oppo  231.23      NaN  \n",
       "1048572  appliances.kitchen.refrigerators   samsung  520.81      NaN  \n",
       "1048573                               NaN   rowenta   55.53      NaN  \n",
       "1048574                               NaN  provence    3.91      NaN  "
      ]
     },
     "execution_count": 7,
     "metadata": {},
     "output_type": "execute_result"
    }
   ],
   "source": [
    "data.tail()"
   ]
  },
  {
   "cell_type": "code",
   "execution_count": 8,
   "metadata": {},
   "outputs": [
    {
     "data": {
      "text/html": [
       "<div>\n",
       "<style scoped>\n",
       "    .dataframe tbody tr th:only-of-type {\n",
       "        vertical-align: middle;\n",
       "    }\n",
       "\n",
       "    .dataframe tbody tr th {\n",
       "        vertical-align: top;\n",
       "    }\n",
       "\n",
       "    .dataframe thead th {\n",
       "        text-align: right;\n",
       "    }\n",
       "</style>\n",
       "<table border=\"1\" class=\"dataframe\">\n",
       "  <thead>\n",
       "    <tr style=\"text-align: right;\">\n",
       "      <th></th>\n",
       "      <th>order_id</th>\n",
       "      <th>product_id</th>\n",
       "      <th>category_id</th>\n",
       "      <th>price</th>\n",
       "      <th>user_id</th>\n",
       "    </tr>\n",
       "  </thead>\n",
       "  <tbody>\n",
       "    <tr>\n",
       "      <th>count</th>\n",
       "      <td>1.048575e+06</td>\n",
       "      <td>1.048575e+06</td>\n",
       "      <td>8.502280e+05</td>\n",
       "      <td>850228.000000</td>\n",
       "      <td>1.071590e+05</td>\n",
       "    </tr>\n",
       "    <tr>\n",
       "      <th>mean</th>\n",
       "      <td>2.347997e+18</td>\n",
       "      <td>1.678272e+18</td>\n",
       "      <td>2.273988e+18</td>\n",
       "      <td>135.998778</td>\n",
       "      <td>1.515920e+18</td>\n",
       "    </tr>\n",
       "    <tr>\n",
       "      <th>std</th>\n",
       "      <td>5.662879e+15</td>\n",
       "      <td>3.111070e+17</td>\n",
       "      <td>2.399669e+16</td>\n",
       "      <td>215.911911</td>\n",
       "      <td>2.560012e+02</td>\n",
       "    </tr>\n",
       "    <tr>\n",
       "      <th>min</th>\n",
       "      <td>2.294360e+18</td>\n",
       "      <td>1.515970e+18</td>\n",
       "      <td>2.268110e+18</td>\n",
       "      <td>0.000000</td>\n",
       "      <td>1.515920e+18</td>\n",
       "    </tr>\n",
       "    <tr>\n",
       "      <th>25%</th>\n",
       "      <td>2.348780e+18</td>\n",
       "      <td>1.515970e+18</td>\n",
       "      <td>2.268110e+18</td>\n",
       "      <td>13.400000</td>\n",
       "      <td>1.515920e+18</td>\n",
       "    </tr>\n",
       "    <tr>\n",
       "      <th>50%</th>\n",
       "      <td>2.348800e+18</td>\n",
       "      <td>1.515970e+18</td>\n",
       "      <td>2.268110e+18</td>\n",
       "      <td>47.200000</td>\n",
       "      <td>1.515920e+18</td>\n",
       "    </tr>\n",
       "    <tr>\n",
       "      <th>75%</th>\n",
       "      <td>2.348820e+18</td>\n",
       "      <td>1.515970e+18</td>\n",
       "      <td>2.268110e+18</td>\n",
       "      <td>162.010000</td>\n",
       "      <td>1.515920e+18</td>\n",
       "    </tr>\n",
       "    <tr>\n",
       "      <th>max</th>\n",
       "      <td>2.353220e+18</td>\n",
       "      <td>2.349250e+18</td>\n",
       "      <td>2.374500e+18</td>\n",
       "      <td>18328.680000</td>\n",
       "      <td>1.515920e+18</td>\n",
       "    </tr>\n",
       "  </tbody>\n",
       "</table>\n",
       "</div>"
      ],
      "text/plain": [
       "           order_id    product_id   category_id          price       user_id\n",
       "count  1.048575e+06  1.048575e+06  8.502280e+05  850228.000000  1.071590e+05\n",
       "mean   2.347997e+18  1.678272e+18  2.273988e+18     135.998778  1.515920e+18\n",
       "std    5.662879e+15  3.111070e+17  2.399669e+16     215.911911  2.560012e+02\n",
       "min    2.294360e+18  1.515970e+18  2.268110e+18       0.000000  1.515920e+18\n",
       "25%    2.348780e+18  1.515970e+18  2.268110e+18      13.400000  1.515920e+18\n",
       "50%    2.348800e+18  1.515970e+18  2.268110e+18      47.200000  1.515920e+18\n",
       "75%    2.348820e+18  1.515970e+18  2.268110e+18     162.010000  1.515920e+18\n",
       "max    2.353220e+18  2.349250e+18  2.374500e+18   18328.680000  1.515920e+18"
      ]
     },
     "execution_count": 8,
     "metadata": {},
     "output_type": "execute_result"
    }
   ],
   "source": [
    "data.describe()"
   ]
  },
  {
   "cell_type": "code",
   "execution_count": 10,
   "metadata": {},
   "outputs": [
    {
     "name": "stdout",
     "output_type": "stream",
     "text": [
      "<class 'pandas.core.frame.DataFrame'>\n",
      "RangeIndex: 1048575 entries, 0 to 1048574\n",
      "Data columns (total 8 columns):\n",
      " #   Column         Non-Null Count    Dtype  \n",
      "---  ------         --------------    -----  \n",
      " 0   event_time     1048575 non-null  object \n",
      " 1   order_id       1048575 non-null  float64\n",
      " 2   product_id     1048575 non-null  float64\n",
      " 3   category_id    850228 non-null   float64\n",
      " 4   category_code  789495 non-null   object \n",
      " 5   brand          814816 non-null   object \n",
      " 6   price          850228 non-null   float64\n",
      " 7   user_id        107159 non-null   float64\n",
      "dtypes: float64(5), object(3)\n",
      "memory usage: 64.0+ MB\n"
     ]
    }
   ],
   "source": [
    "data.info()"
   ]
  },
  {
   "cell_type": "markdown",
   "metadata": {},
   "source": [
    "### Data Cleaning"
   ]
  },
  {
   "cell_type": "markdown",
   "metadata": {},
   "source": [
    "### Handle Duplicates"
   ]
  },
  {
   "cell_type": "code",
   "execution_count": 11,
   "metadata": {},
   "outputs": [
    {
     "data": {
      "text/html": [
       "<div>\n",
       "<style scoped>\n",
       "    .dataframe tbody tr th:only-of-type {\n",
       "        vertical-align: middle;\n",
       "    }\n",
       "\n",
       "    .dataframe tbody tr th {\n",
       "        vertical-align: top;\n",
       "    }\n",
       "\n",
       "    .dataframe thead th {\n",
       "        text-align: right;\n",
       "    }\n",
       "</style>\n",
       "<table border=\"1\" class=\"dataframe\">\n",
       "  <thead>\n",
       "    <tr style=\"text-align: right;\">\n",
       "      <th></th>\n",
       "      <th>event_time</th>\n",
       "      <th>order_id</th>\n",
       "      <th>product_id</th>\n",
       "      <th>category_id</th>\n",
       "      <th>category_code</th>\n",
       "      <th>brand</th>\n",
       "      <th>price</th>\n",
       "      <th>user_id</th>\n",
       "    </tr>\n",
       "  </thead>\n",
       "  <tbody>\n",
       "    <tr>\n",
       "      <th>0</th>\n",
       "      <td>2020-04-24 11:50:39 UTC</td>\n",
       "      <td>2.294360e+18</td>\n",
       "      <td>1.515970e+18</td>\n",
       "      <td>2.268110e+18</td>\n",
       "      <td>electronics.tablet</td>\n",
       "      <td>samsung</td>\n",
       "      <td>162.01</td>\n",
       "      <td>1.515920e+18</td>\n",
       "    </tr>\n",
       "    <tr>\n",
       "      <th>2</th>\n",
       "      <td>2020-04-24 14:37:43 UTC</td>\n",
       "      <td>2.294440e+18</td>\n",
       "      <td>2.273950e+18</td>\n",
       "      <td>2.268110e+18</td>\n",
       "      <td>electronics.audio.headphone</td>\n",
       "      <td>huawei</td>\n",
       "      <td>77.52</td>\n",
       "      <td>1.515920e+18</td>\n",
       "    </tr>\n",
       "    <tr>\n",
       "      <th>4</th>\n",
       "      <td>2020-04-24 19:16:21 UTC</td>\n",
       "      <td>2.294580e+18</td>\n",
       "      <td>2.273950e+18</td>\n",
       "      <td>2.268110e+18</td>\n",
       "      <td>NaN</td>\n",
       "      <td>karcher</td>\n",
       "      <td>217.57</td>\n",
       "      <td>1.515920e+18</td>\n",
       "    </tr>\n",
       "    <tr>\n",
       "      <th>5</th>\n",
       "      <td>2020-04-26 08:45:57 UTC</td>\n",
       "      <td>2.295720e+18</td>\n",
       "      <td>1.515970e+18</td>\n",
       "      <td>2.268110e+18</td>\n",
       "      <td>furniture.kitchen.table</td>\n",
       "      <td>maestro</td>\n",
       "      <td>39.33</td>\n",
       "      <td>1.515920e+18</td>\n",
       "    </tr>\n",
       "    <tr>\n",
       "      <th>6</th>\n",
       "      <td>2020-04-26 09:33:47 UTC</td>\n",
       "      <td>2.295740e+18</td>\n",
       "      <td>1.515970e+18</td>\n",
       "      <td>2.268110e+18</td>\n",
       "      <td>electronics.smartphone</td>\n",
       "      <td>apple</td>\n",
       "      <td>1387.01</td>\n",
       "      <td>1.515920e+18</td>\n",
       "    </tr>\n",
       "    <tr>\n",
       "      <th>...</th>\n",
       "      <td>...</td>\n",
       "      <td>...</td>\n",
       "      <td>...</td>\n",
       "      <td>...</td>\n",
       "      <td>...</td>\n",
       "      <td>...</td>\n",
       "      <td>...</td>\n",
       "      <td>...</td>\n",
       "    </tr>\n",
       "    <tr>\n",
       "      <th>1048570</th>\n",
       "      <td>2020-05-12 07:16:25 UTC</td>\n",
       "      <td>2.353220e+18</td>\n",
       "      <td>1.515970e+18</td>\n",
       "      <td>NaN</td>\n",
       "      <td>57.87</td>\n",
       "      <td>NaN</td>\n",
       "      <td>NaN</td>\n",
       "      <td>NaN</td>\n",
       "    </tr>\n",
       "    <tr>\n",
       "      <th>1048571</th>\n",
       "      <td>2020-05-12 07:08:37 UTC</td>\n",
       "      <td>2.353220e+18</td>\n",
       "      <td>1.515970e+18</td>\n",
       "      <td>2.268110e+18</td>\n",
       "      <td>electronics.smartphone</td>\n",
       "      <td>oppo</td>\n",
       "      <td>231.23</td>\n",
       "      <td>NaN</td>\n",
       "    </tr>\n",
       "    <tr>\n",
       "      <th>1048572</th>\n",
       "      <td>2020-05-12 09:11:47 UTC</td>\n",
       "      <td>2.353220e+18</td>\n",
       "      <td>2.273950e+18</td>\n",
       "      <td>2.268110e+18</td>\n",
       "      <td>appliances.kitchen.refrigerators</td>\n",
       "      <td>samsung</td>\n",
       "      <td>520.81</td>\n",
       "      <td>NaN</td>\n",
       "    </tr>\n",
       "    <tr>\n",
       "      <th>1048573</th>\n",
       "      <td>2020-05-12 06:43:09 UTC</td>\n",
       "      <td>2.353220e+18</td>\n",
       "      <td>1.515970e+18</td>\n",
       "      <td>2.268110e+18</td>\n",
       "      <td>NaN</td>\n",
       "      <td>rowenta</td>\n",
       "      <td>55.53</td>\n",
       "      <td>NaN</td>\n",
       "    </tr>\n",
       "    <tr>\n",
       "      <th>1048574</th>\n",
       "      <td>2020-05-12 06:43:09 UTC</td>\n",
       "      <td>2.353220e+18</td>\n",
       "      <td>1.515970e+18</td>\n",
       "      <td>2.268110e+18</td>\n",
       "      <td>NaN</td>\n",
       "      <td>provence</td>\n",
       "      <td>3.91</td>\n",
       "      <td>NaN</td>\n",
       "    </tr>\n",
       "  </tbody>\n",
       "</table>\n",
       "<p>1014667 rows × 8 columns</p>\n",
       "</div>"
      ],
      "text/plain": [
       "                      event_time      order_id    product_id   category_id  \\\n",
       "0        2020-04-24 11:50:39 UTC  2.294360e+18  1.515970e+18  2.268110e+18   \n",
       "2        2020-04-24 14:37:43 UTC  2.294440e+18  2.273950e+18  2.268110e+18   \n",
       "4        2020-04-24 19:16:21 UTC  2.294580e+18  2.273950e+18  2.268110e+18   \n",
       "5        2020-04-26 08:45:57 UTC  2.295720e+18  1.515970e+18  2.268110e+18   \n",
       "6        2020-04-26 09:33:47 UTC  2.295740e+18  1.515970e+18  2.268110e+18   \n",
       "...                          ...           ...           ...           ...   \n",
       "1048570  2020-05-12 07:16:25 UTC  2.353220e+18  1.515970e+18           NaN   \n",
       "1048571  2020-05-12 07:08:37 UTC  2.353220e+18  1.515970e+18  2.268110e+18   \n",
       "1048572  2020-05-12 09:11:47 UTC  2.353220e+18  2.273950e+18  2.268110e+18   \n",
       "1048573  2020-05-12 06:43:09 UTC  2.353220e+18  1.515970e+18  2.268110e+18   \n",
       "1048574  2020-05-12 06:43:09 UTC  2.353220e+18  1.515970e+18  2.268110e+18   \n",
       "\n",
       "                            category_code     brand    price       user_id  \n",
       "0                      electronics.tablet   samsung   162.01  1.515920e+18  \n",
       "2             electronics.audio.headphone    huawei    77.52  1.515920e+18  \n",
       "4                                     NaN   karcher   217.57  1.515920e+18  \n",
       "5                 furniture.kitchen.table   maestro    39.33  1.515920e+18  \n",
       "6                  electronics.smartphone     apple  1387.01  1.515920e+18  \n",
       "...                                   ...       ...      ...           ...  \n",
       "1048570                             57.87       NaN      NaN           NaN  \n",
       "1048571            electronics.smartphone      oppo   231.23           NaN  \n",
       "1048572  appliances.kitchen.refrigerators   samsung   520.81           NaN  \n",
       "1048573                               NaN   rowenta    55.53           NaN  \n",
       "1048574                               NaN  provence     3.91           NaN  \n",
       "\n",
       "[1014667 rows x 8 columns]"
      ]
     },
     "execution_count": 11,
     "metadata": {},
     "output_type": "execute_result"
    }
   ],
   "source": [
    "data.drop_duplicates()"
   ]
  },
  {
   "cell_type": "markdown",
   "metadata": {},
   "source": [
    "### Null Value Treatment"
   ]
  },
  {
   "cell_type": "code",
   "execution_count": 14,
   "metadata": {},
   "outputs": [
    {
     "data": {
      "text/html": [
       "<div>\n",
       "<style scoped>\n",
       "    .dataframe tbody tr th:only-of-type {\n",
       "        vertical-align: middle;\n",
       "    }\n",
       "\n",
       "    .dataframe tbody tr th {\n",
       "        vertical-align: top;\n",
       "    }\n",
       "\n",
       "    .dataframe thead th {\n",
       "        text-align: right;\n",
       "    }\n",
       "</style>\n",
       "<table border=\"1\" class=\"dataframe\">\n",
       "  <thead>\n",
       "    <tr style=\"text-align: right;\">\n",
       "      <th></th>\n",
       "      <th>event_time</th>\n",
       "      <th>order_id</th>\n",
       "      <th>product_id</th>\n",
       "      <th>category_id</th>\n",
       "      <th>category_code</th>\n",
       "      <th>brand</th>\n",
       "      <th>price</th>\n",
       "      <th>user_id</th>\n",
       "    </tr>\n",
       "  </thead>\n",
       "  <tbody>\n",
       "    <tr>\n",
       "      <th>0</th>\n",
       "      <td>2020-04-24 11:50:39 UTC</td>\n",
       "      <td>2.294360e+18</td>\n",
       "      <td>1.515970e+18</td>\n",
       "      <td>2.268110e+18</td>\n",
       "      <td>electronics.tablet</td>\n",
       "      <td>samsung</td>\n",
       "      <td>162.01</td>\n",
       "      <td>1.515920e+18</td>\n",
       "    </tr>\n",
       "    <tr>\n",
       "      <th>1</th>\n",
       "      <td>2020-04-24 11:50:39 UTC</td>\n",
       "      <td>2.294360e+18</td>\n",
       "      <td>1.515970e+18</td>\n",
       "      <td>2.268110e+18</td>\n",
       "      <td>electronics.tablet</td>\n",
       "      <td>samsung</td>\n",
       "      <td>162.01</td>\n",
       "      <td>1.515920e+18</td>\n",
       "    </tr>\n",
       "    <tr>\n",
       "      <th>2</th>\n",
       "      <td>2020-04-24 14:37:43 UTC</td>\n",
       "      <td>2.294440e+18</td>\n",
       "      <td>2.273950e+18</td>\n",
       "      <td>2.268110e+18</td>\n",
       "      <td>electronics.audio.headphone</td>\n",
       "      <td>huawei</td>\n",
       "      <td>77.52</td>\n",
       "      <td>1.515920e+18</td>\n",
       "    </tr>\n",
       "    <tr>\n",
       "      <th>3</th>\n",
       "      <td>2020-04-24 14:37:43 UTC</td>\n",
       "      <td>2.294440e+18</td>\n",
       "      <td>2.273950e+18</td>\n",
       "      <td>2.268110e+18</td>\n",
       "      <td>electronics.audio.headphone</td>\n",
       "      <td>huawei</td>\n",
       "      <td>77.52</td>\n",
       "      <td>1.515920e+18</td>\n",
       "    </tr>\n",
       "    <tr>\n",
       "      <th>5</th>\n",
       "      <td>2020-04-26 08:45:57 UTC</td>\n",
       "      <td>2.295720e+18</td>\n",
       "      <td>1.515970e+18</td>\n",
       "      <td>2.268110e+18</td>\n",
       "      <td>furniture.kitchen.table</td>\n",
       "      <td>maestro</td>\n",
       "      <td>39.33</td>\n",
       "      <td>1.515920e+18</td>\n",
       "    </tr>\n",
       "    <tr>\n",
       "      <th>...</th>\n",
       "      <td>...</td>\n",
       "      <td>...</td>\n",
       "      <td>...</td>\n",
       "      <td>...</td>\n",
       "      <td>...</td>\n",
       "      <td>...</td>\n",
       "      <td>...</td>\n",
       "      <td>...</td>\n",
       "    </tr>\n",
       "    <tr>\n",
       "      <th>1048396</th>\n",
       "      <td>2020-05-12 09:53:32 UTC</td>\n",
       "      <td>2.353220e+18</td>\n",
       "      <td>1.515970e+18</td>\n",
       "      <td>2.268110e+18</td>\n",
       "      <td>appliances.kitchen.kettle</td>\n",
       "      <td>berghoff</td>\n",
       "      <td>9.00</td>\n",
       "      <td>1.515920e+18</td>\n",
       "    </tr>\n",
       "    <tr>\n",
       "      <th>1048413</th>\n",
       "      <td>2020-05-12 07:54:00 UTC</td>\n",
       "      <td>2.353220e+18</td>\n",
       "      <td>1.515970e+18</td>\n",
       "      <td>2.268110e+18</td>\n",
       "      <td>electronics.audio.headphone</td>\n",
       "      <td>samsung</td>\n",
       "      <td>81.00</td>\n",
       "      <td>1.515920e+18</td>\n",
       "    </tr>\n",
       "    <tr>\n",
       "      <th>1048434</th>\n",
       "      <td>2020-05-12 06:00:11 UTC</td>\n",
       "      <td>2.353220e+18</td>\n",
       "      <td>1.515970e+18</td>\n",
       "      <td>2.268110e+18</td>\n",
       "      <td>electronics.smartphone</td>\n",
       "      <td>huawei</td>\n",
       "      <td>300.90</td>\n",
       "      <td>1.515920e+18</td>\n",
       "    </tr>\n",
       "    <tr>\n",
       "      <th>1048438</th>\n",
       "      <td>2020-05-12 06:35:24 UTC</td>\n",
       "      <td>2.353220e+18</td>\n",
       "      <td>1.515970e+18</td>\n",
       "      <td>2.268110e+18</td>\n",
       "      <td>electronics.tablet</td>\n",
       "      <td>apple</td>\n",
       "      <td>370.35</td>\n",
       "      <td>1.515920e+18</td>\n",
       "    </tr>\n",
       "    <tr>\n",
       "      <th>1048444</th>\n",
       "      <td>2020-05-12 11:03:24 UTC</td>\n",
       "      <td>2.353220e+18</td>\n",
       "      <td>1.515970e+18</td>\n",
       "      <td>2.268110e+18</td>\n",
       "      <td>electronics.smartphone</td>\n",
       "      <td>samsung</td>\n",
       "      <td>856.46</td>\n",
       "      <td>1.515920e+18</td>\n",
       "    </tr>\n",
       "  </tbody>\n",
       "</table>\n",
       "<p>75651 rows × 8 columns</p>\n",
       "</div>"
      ],
      "text/plain": [
       "                      event_time      order_id    product_id   category_id  \\\n",
       "0        2020-04-24 11:50:39 UTC  2.294360e+18  1.515970e+18  2.268110e+18   \n",
       "1        2020-04-24 11:50:39 UTC  2.294360e+18  1.515970e+18  2.268110e+18   \n",
       "2        2020-04-24 14:37:43 UTC  2.294440e+18  2.273950e+18  2.268110e+18   \n",
       "3        2020-04-24 14:37:43 UTC  2.294440e+18  2.273950e+18  2.268110e+18   \n",
       "5        2020-04-26 08:45:57 UTC  2.295720e+18  1.515970e+18  2.268110e+18   \n",
       "...                          ...           ...           ...           ...   \n",
       "1048396  2020-05-12 09:53:32 UTC  2.353220e+18  1.515970e+18  2.268110e+18   \n",
       "1048413  2020-05-12 07:54:00 UTC  2.353220e+18  1.515970e+18  2.268110e+18   \n",
       "1048434  2020-05-12 06:00:11 UTC  2.353220e+18  1.515970e+18  2.268110e+18   \n",
       "1048438  2020-05-12 06:35:24 UTC  2.353220e+18  1.515970e+18  2.268110e+18   \n",
       "1048444  2020-05-12 11:03:24 UTC  2.353220e+18  1.515970e+18  2.268110e+18   \n",
       "\n",
       "                       category_code     brand   price       user_id  \n",
       "0                 electronics.tablet   samsung  162.01  1.515920e+18  \n",
       "1                 electronics.tablet   samsung  162.01  1.515920e+18  \n",
       "2        electronics.audio.headphone    huawei   77.52  1.515920e+18  \n",
       "3        electronics.audio.headphone    huawei   77.52  1.515920e+18  \n",
       "5            furniture.kitchen.table   maestro   39.33  1.515920e+18  \n",
       "...                              ...       ...     ...           ...  \n",
       "1048396    appliances.kitchen.kettle  berghoff    9.00  1.515920e+18  \n",
       "1048413  electronics.audio.headphone   samsung   81.00  1.515920e+18  \n",
       "1048434       electronics.smartphone    huawei  300.90  1.515920e+18  \n",
       "1048438           electronics.tablet     apple  370.35  1.515920e+18  \n",
       "1048444       electronics.smartphone   samsung  856.46  1.515920e+18  \n",
       "\n",
       "[75651 rows x 8 columns]"
      ]
     },
     "execution_count": 14,
     "metadata": {},
     "output_type": "execute_result"
    }
   ],
   "source": [
    "data.dropna()"
   ]
  },
  {
   "cell_type": "markdown",
   "metadata": {},
   "source": [
    "### Data Type Corrections"
   ]
  },
  {
   "cell_type": "code",
   "execution_count": 16,
   "metadata": {},
   "outputs": [
    {
     "name": "stdout",
     "output_type": "stream",
     "text": [
      "event_time       datetime64[ns, UTC]\n",
      "order_id                     float64\n",
      "product_id                   float64\n",
      "category_id                  float64\n",
      "category_code                 object\n",
      "brand                         object\n",
      "price                        float64\n",
      "user_id                      float64\n",
      "dtype: object\n"
     ]
    }
   ],
   "source": [
    "data['event_time']=pd.to_datetime(data['event_time'])\n",
    "data['price']=data['price'].astype(float)\n",
    "print(data.dtypes)"
   ]
  },
  {
   "cell_type": "markdown",
   "metadata": {},
   "source": [
    "### Distribution For X col"
   ]
  },
  {
   "cell_type": "code",
   "execution_count": 17,
   "metadata": {},
   "outputs": [
    {
     "data": {
      "image/png": "[encoded data removed]",
      "text/plain": [
       "<Figure size 500x500 with 1 Axes>"
      ]
     },
     "metadata": {},
     "output_type": "display_data"
    }
   ],
   "source": [
    "import matplotlib.pyplot as plt\n",
    "\n",
    "plt.figure(figsize=(5,5))\n",
    "plt.hist(data['price'], bins=30, color='green', edgecolor='black',alpha=0.7)\n",
    "plt.title('Distribution of Price')\n",
    "plt.xlabel('Price')\n",
    "plt.ylabel('Frequency')\n",
    "plt.show()"
   ]
  },
  {
   "cell_type": "code",
   "execution_count": 19,
   "metadata": {},
   "outputs": [
    {
     "data": {
      "image/png": "[encoded data removed]",
      "text/plain": [
       "<Figure size 500x400 with 1 Axes>"
      ]
     },
     "metadata": {},
     "output_type": "display_data"
    }
   ],
   "source": [
    "import matplotlib.pyplot as plt\n",
    "plt.figure(figsize=(5,4))\n",
    "plt.hist(data['event_time'],color='skyblue',bins=30,edgecolor='black')\n",
    "plt.title('Distribution of Event Time')\n",
    "plt.xlabel('Event_time')\n",
    "plt.ylabel('Frequency')\n",
    "plt.show()"
   ]
  },
  {
   "cell_type": "markdown",
   "metadata": {},
   "source": [
    "Conclusion"
   ]
  },
  {
   "cell_type": "markdown",
   "metadata": {},
   "source": [
    "The distribution of prices appears to be right-skewed, with a majority of products being priced at lower values and fewer products at higher prices. Regarding the distribution of event times, there seems to be variation in purchase activity over time, potentially indicating periods of higher and lower customer engagement with the e-commerce platform."
   ]
  },
  {
   "cell_type": "markdown",
   "metadata": {},
   "source": [
    "### Relation-Scatter Plot/Heat Map"
   ]
  },
  {
   "cell_type": "code",
   "execution_count": 20,
   "metadata": {},
   "outputs": [
    {
     "data": {
      "image/png": "[encoded data removed]",
      "text/plain": [
       "<Figure size 600x500 with 1 Axes>"
      ]
     },
     "metadata": {},
     "output_type": "display_data"
    }
   ],
   "source": [
    "import matplotlib.pyplot as plt \n",
    "\n",
    "plt.figure(figsize=(6,5))\n",
    "plt.scatter(data['event_time'], data['price'], alpha=0.5, color='blue')\n",
    "plt.title('Scatter Plot of Event Time vs Price')\n",
    "plt.xlabel('Event Time', color='skyblue')\n",
    "plt.ylabel('Price', color='brown')\n",
    "plt.show()\n"
   ]
  },
  {
   "cell_type": "markdown",
   "metadata": {},
   "source": [
    "### Problem Statements"
   ]
  },
  {
   "cell_type": "markdown",
   "metadata": {},
   "source": [
    "How do daily purchase patterns vary throughout the week?\n",
    "Can we identify any irregularities in order fulfillment using order IDs?\n",
    "Which products have the highest sales volume, based on product IDs?\n",
    "Are there any categories with significantly higher sales compared to others?\n",
    "How does the textual representation of product categories impact sales?\n",
    "Which brands are most preferred by customers?\n",
    "Is there a correlation between product prices and sales volume?\n",
    "How many unique customers have made purchases within the dataset?\n",
    "What are the purchasing behaviors of individual customers?\n",
    "Can we identify any trends or patterns in user demographics?\n",
    "Are there any price points that attract more customers?\n",
    "How do sales differ between weekdays and weekends?\n",
    "Which product categories contribute the most to overall revenue?\n",
    "Are there any product categories experiencing a decline in sales?\n",
    "Can we segment customers based on their purchase history and preferences?"
   ]
  },
  {
   "cell_type": "markdown",
   "metadata": {},
   "source": [
    "Problem Statement:1"
   ]
  },
  {
   "cell_type": "code",
   "execution_count": 22,
   "metadata": {},
   "outputs": [
    {
     "data": {
      "image/png": "[encoded data removed]",
      "text/plain": [
       "<Figure size 500x500 with 1 Axes>"
      ]
     },
     "metadata": {},
     "output_type": "display_data"
    }
   ],
   "source": [
    "#convert event_time to date time format\n",
    "data['event_time']=pd.to_datetime(data['event_time'])\n",
    "#Extract day of week from event time\n",
    "data['day_of_week']=data['event_time'].dt.day_name()\n",
    "#Exploratory Data Analysis (EDA)\n",
    "# Daily purchase patterns\n",
    "daily_purchase_pattern=data.groupby('day_of_week').size()\n",
    "\n",
    "# visualize daily perchase pattern\n",
    "\n",
    "import matplotlib.pyplot as plt\n",
    "\n",
    "plt.figure(figsize=(5,5,))\n",
    "daily_purchase_pattern.plot(kind='bar')\n",
    "plt.title('Daily Purchase Pattern')\n",
    "plt.xlabel('day_of_week')\n",
    "plt.ylabel('Number Of Purchases')\n",
    "plt.xticks(rotation=45)\n",
    "plt.show()\n"
   ]
  },
  {
   "cell_type": "markdown",
   "metadata": {},
   "source": [
    "Problem Statement:2"
   ]
  },
  {
   "cell_type": "code",
   "execution_count": 23,
   "metadata": {},
   "outputs": [
    {
     "data": {
      "image/png": "[encoded data removed]",
      "text/plain": [
       "<Figure size 640x480 with 1 Axes>"
      ]
     },
     "metadata": {},
     "output_type": "display_data"
    }
   ],
   "source": [
    "# checking for duplicate order ids\n",
    "duplicate_orders=data[data.duplicated(subset='order_id',keep=False)]\n",
    "\n",
    "#Analyze order fulfillment time\n",
    "data['order_fulfillment_time'] = data.groupby('order_id')['event_time'].transform(lambda x: x.max() - x.min())\n",
    "# Visualize order fulfillment time\n",
    "plt.hist(data['order_fulfillment_time'].dt.total_seconds() / 3600, bins=20)\n",
    "plt.xlabel('Order Fulfillment Time (hours)')\n",
    "plt.ylabel('Frequency')\n",
    "plt.title('Distribution of Order Fulfillment Time')\n",
    "plt.show()\n"
   ]
  },
  {
   "cell_type": "markdown",
   "metadata": {},
   "source": [
    "Problem Statement:3"
   ]
  },
  {
   "cell_type": "code",
   "execution_count": 25,
   "metadata": {},
   "outputs": [
    {
     "name": "stdout",
     "output_type": "stream",
     "text": [
      "Top Products by Sales Volume:\n",
      "product_id\n",
      "1.515970e+18    824238\n",
      "2.273950e+18    219789\n",
      "2.309020e+18      2514\n",
      "2.298440e+18      1732\n",
      "2.282010e+18       109\n",
      "Name: count, dtype: int64\n"
     ]
    }
   ],
   "source": [
    "import pandas as pd\n",
    "\n",
    "#Group by product_id and count the occurrences\n",
    "product_sales = data['product_id'].value_counts()\n",
    "\n",
    "# Display the products with the highest sales volume\n",
    "top_products = product_sales.head(5)  # Change 5 to the desired number of top products\n",
    "print(\"Top Products by Sales Volume:\")\n",
    "print(top_products)"
   ]
  },
  {
   "cell_type": "markdown",
   "metadata": {},
   "source": [
    "Problem Statement:4"
   ]
  },
  {
   "cell_type": "code",
   "execution_count": 27,
   "metadata": {},
   "outputs": [
    {
     "name": "stdout",
     "output_type": "stream",
     "text": [
      "Categories with significantly higher sales compared to others:\n",
      "                        category_code        price\n",
      "354            electronics.smartphone  32268998.26\n",
      "358              electronics.video.tv  11546709.57\n",
      "297  appliances.kitchen.refrigerators  10363140.29\n",
      "325                computers.notebook   8716594.40\n",
      "300         appliances.kitchen.washer   7002348.34\n",
      "280     appliances.environment.vacuum   3642285.55\n",
      "290           appliances.kitchen.hood   2525967.59\n"
     ]
    }
   ],
   "source": [
    "# Group the data by category and calculate the total sales for each category\n",
    "category_sales = data.groupby('category_code')['price'].sum().reset_index()\n",
    "\n",
    "# Sort the categories by total sales in descending order\n",
    "category_sales = category_sales.sort_values(by='price', ascending=False)\n",
    "\n",
    "# Identify categories with significantly higher sales compared to others\n",
    "# You can set a threshold for what constitutes \"significantly higher\" and filter the categories accordingly\n",
    "threshold = category_sales['price'].mean() + category_sales['price'].std()  # Example threshold (mean + 1 standard deviation)\n",
    "significant_categories = category_sales[category_sales['price'] > threshold]\n",
    "\n",
    "print(\"Categories with significantly higher sales compared to others:\")\n",
    "print(significant_categories)"
   ]
  },
  {
   "cell_type": "markdown",
   "metadata": {},
   "source": [
    "Problem Statement:5"
   ]
  },
  {
   "cell_type": "code",
   "execution_count": 18,
   "metadata": {},
   "outputs": [
    {
     "name": "stdout",
     "output_type": "stream",
     "text": [
      "                        category_code        price\n",
      "354            electronics.smartphone  32268998.26\n",
      "358              electronics.video.tv  11546709.57\n",
      "297  appliances.kitchen.refrigerators  10363140.29\n",
      "325                computers.notebook   8716594.40\n",
      "300         appliances.kitchen.washer   7002348.34\n",
      "280     appliances.environment.vacuum   3642285.55\n",
      "290           appliances.kitchen.hood   2525967.59\n",
      "296           appliances.kitchen.oven   1993232.59\n",
      "353                electronics.clocks   1738644.62\n",
      "347       electronics.audio.headphone   1599331.87\n"
     ]
    },
    {
     "data": {
      "image/png": "[encoded data removed]",
      "text/plain": [
       "<Figure size 500x500 with 1 Axes>"
      ]
     },
     "metadata": {},
     "output_type": "display_data"
    }
   ],
   "source": [
    "# Group by category_code and calculate total sales (sum of prices)\n",
    "category_sales = data.groupby('category_code')['price'].sum().reset_index()\n",
    "\n",
    "# Sort the categories by total sales in descending order\n",
    "category_sales = category_sales.sort_values(by='price', ascending=False)\n",
    "\n",
    "# Visualize the top categories by sales\n",
    "top_categories = category_sales.head(10)  \n",
    "print(top_categories)\n",
    "\n",
    "import matplotlib.pyplot as plt\n",
    "\n",
    "plt.figure(figsize=(5,5))\n",
    "plt.bar(top_categories['category_code'], top_categories['price'], color='skyblue')\n",
    "plt.xlabel('Category')\n",
    "plt.ylabel('Total Sales')\n",
    "plt.title('Top 10 Categories by Sales')\n",
    "plt.xticks(rotation=45, ha='right')  # Rotate category labels for better readability\n",
    "plt.tight_layout()\n",
    "plt.show()"
   ]
  },
  {
   "cell_type": "markdown",
   "metadata": {},
   "source": [
    "Problem Statement:6"
   ]
  },
  {
   "cell_type": "code",
   "execution_count": 28,
   "metadata": {},
   "outputs": [
    {
     "name": "stdout",
     "output_type": "stream",
     "text": [
      "        brand   count\n",
      "565   samsung  129666\n",
      "62        ava   42615\n",
      "635     tefal   29798\n",
      "296    huawei   27965\n",
      "37      apple   24935\n",
      "..        ...     ...\n",
      "426    millet       1\n",
      "49   artberry       1\n",
      "134     cayin       1\n",
      "430     mobil       1\n",
      "404   matador       1\n",
      "\n",
      "[726 rows x 2 columns]\n",
      "       brand   count\n",
      "565  samsung  129666\n",
      "62       ava   42615\n",
      "635    tefal   29798\n",
      "296   huawei   27965\n",
      "37     apple   24935\n",
      "506  philips   22086\n",
      "380       lg   19955\n",
      "451      neo   18728\n",
      "515  polaris   15155\n",
      "478     oppo   14420\n"
     ]
    }
   ],
   "source": [
    "brand_count=data.groupby('brand').size().reset_index(name='count')\n",
    "mostPreferred_brand=brand_count.sort_values(by='count' ,ascending=False)\n",
    "print(mostPreferred_brand)\n",
    "# or\n",
    "#top 10m brands\n",
    "Top_brands=mostPreferred_brand.head(10)\n",
    "print(Top_brands)"
   ]
  },
  {
   "cell_type": "markdown",
   "metadata": {},
   "source": [
    "Problem Statement:7"
   ]
  },
  {
   "cell_type": "code",
   "execution_count": 22,
   "metadata": {},
   "outputs": [
    {
     "data": {
      "image/png": "[encoded data removed]",
      "text/plain": [
       "<Figure size 500x500 with 1 Axes>"
      ]
     },
     "metadata": {},
     "output_type": "display_data"
    },
    {
     "name": "stdout",
     "output_type": "stream",
     "text": [
      "Correlation coefficient: -0.06452716286846186\n"
     ]
    }
   ],
   "source": [
    "# Group by product_id, calculate average price and total sales volume\n",
    "product_stats = data.groupby('product_id').agg({\n",
    "    'price': 'mean',\n",
    "    'order_id': 'count'  # assuming each row represents a single purchase\n",
    "}).rename(columns={'order_id': 'sales_volume'})\n",
    "\n",
    "# Plot the relationship between average price and sales volume\n",
    "plt.figure(figsize=(5,5))\n",
    "plt.scatter(product_stats['price'], product_stats['sales_volume'], alpha=0.5)\n",
    "plt.title('Product Price vs. Sales Volume')\n",
    "plt.xlabel('Average Price')\n",
    "plt.ylabel('Sales Volume')\n",
    "plt.grid(True)\n",
    "plt.show()\n",
    "\n",
    "# Calculate correlation coefficient\n",
    "correlation = product_stats['price'].corr(product_stats['sales_volume'])\n",
    "print(\"Correlation coefficient:\", correlation)"
   ]
  },
  {
   "cell_type": "markdown",
   "metadata": {},
   "source": [
    "Problem Statement:8"
   ]
  },
  {
   "cell_type": "code",
   "execution_count": 29,
   "metadata": {},
   "outputs": [
    {
     "name": "stdout",
     "output_type": "stream",
     "text": [
      "Number of unique customers: 1\n"
     ]
    }
   ],
   "source": [
    "# Assuming 'user_id' is the column name for user IDs\n",
    "unique_customers = data['user_id'].nunique()\n",
    "\n",
    "print(\"Number of unique customers:\", unique_customers)"
   ]
  },
  {
   "cell_type": "markdown",
   "metadata": {},
   "source": [
    "Problem Statement:9"
   ]
  },
  {
   "cell_type": "code",
   "execution_count": 30,
   "metadata": {},
   "outputs": [
    {
     "name": "stdout",
     "output_type": "stream",
     "text": [
      "              Total Purchases  Total Spending  Avg Spending Per Purchase  \\\n",
      "user_id                                                                    \n",
      "1.515920e+18           107159      16139257.8                 150.610381   \n",
      "\n",
      "              Unique Products Purchased  Avg Products Per Purchase  \n",
      "user_id                                                             \n",
      "1.515920e+18                         24                        1.0  \n"
     ]
    }
   ],
   "source": [
    "grouped_data=data.groupby('user_id')\n",
    "total_purchases=grouped_data.size()\n",
    "total_spending=grouped_data['price'].sum()\n",
    "average_spending_per_purchase =total_spending / total_purchases\n",
    "\n",
    "# Calculate number of unique products purchased per user\n",
    "unique_products = grouped_data['product_id'].nunique()\n",
    "\n",
    "# Calculate average number of products purchased per user\n",
    "average_products_per_purchase = grouped_data['product_id'].size() / total_purchases\n",
    "\n",
    "# Create a DataFrame to store the results\n",
    "customer_behavior = pd.DataFrame({\n",
    "    'Total Purchases': total_purchases,\n",
    "    'Total Spending': total_spending,\n",
    "    'Avg Spending Per Purchase': average_spending_per_purchase,\n",
    "    'Unique Products Purchased': unique_products,\n",
    "    'Avg Products Per Purchase': average_products_per_purchase\n",
    "})\n",
    "\n",
    "# Display the DataFrame\n",
    "print(customer_behavior)\n"
   ]
  },
  {
   "cell_type": "markdown",
   "metadata": {},
   "source": [
    "Problem Statement:10"
   ]
  },
  {
   "cell_type": "code",
   "execution_count": 31,
   "metadata": {},
   "outputs": [
    {
     "name": "stdout",
     "output_type": "stream",
     "text": [
      "        user_id  purchase_count  total_spent\n",
      "0  1.515920e+18          107159   16139257.8\n"
     ]
    }
   ],
   "source": [
    "# Calculate the frequency of purchases per user\n",
    "purchase_frequency = data.groupby('user_id').size().reset_index(name='purchase_count')\n",
    "\n",
    "# Calculate the total amount spent by each user\n",
    "total_spent = data.groupby('user_id')['price'].sum().reset_index(name='total_spent')\n",
    "\n",
    "# Merge the two DataFrames\n",
    "user_summary = pd.merge(purchase_frequency, total_spent, on='user_id')\n",
    "\n",
    "# Display the summary\n",
    "print(user_summary.head())"
   ]
  },
  {
   "cell_type": "markdown",
   "metadata": {},
   "source": [
    "Problem Statement:11"
   ]
  },
  {
   "cell_type": "code",
   "execution_count": 28,
   "metadata": {},
   "outputs": [
    {
     "name": "stdout",
     "output_type": "stream",
     "text": [
      "       price  user_id\n",
      "0       0.00        1\n",
      "1263  273.82        1\n",
      "1276  280.30        1\n",
      "1275  280.07        1\n",
      "1274  279.38        1\n",
      "1273  278.91        1\n",
      "1270  277.75        1\n",
      "1269  277.55        1\n",
      "1268  277.52        1\n",
      "1267  277.31        1\n"
     ]
    }
   ],
   "source": [
    "# Grouping the data by price and counting the number of unique user IDs\n",
    "price_counts = data.groupby('price')['user_id'].nunique().reset_index()\n",
    "\n",
    "# Sorting the results by the number of unique user IDs in descending order\n",
    "price_counts_sorted = price_counts.sort_values(by='user_id', ascending=False)\n",
    "\n",
    "# Displaying the top price points that attract more customers\n",
    "top_price_points = price_counts_sorted.head(10)\n",
    "print(top_price_points)"
   ]
  },
  {
   "cell_type": "markdown",
   "metadata": {},
   "source": [
    "Problem Statement:12"
   ]
  },
  {
   "cell_type": "code",
   "execution_count": 32,
   "metadata": {},
   "outputs": [
    {
     "name": "stdout",
     "output_type": "stream",
     "text": [
      "          total_sales  total_orders  avg_sales_per_order\n",
      "day_type                                                \n",
      "Weekday   70214619.87          3275         21439.578586\n",
      "Weekend   45415349.38          1344         33791.182574\n"
     ]
    },
    {
     "data": {
      "image/png": "[encoded data removed]",
      "text/plain": [
       "<Figure size 640x480 with 1 Axes>"
      ]
     },
     "metadata": {},
     "output_type": "display_data"
    }
   ],
   "source": [
    "# Convert 'event_time' to datetime format\n",
    "data['event_time'] = pd.to_datetime(data['event_time'])\n",
    "\n",
    "# Extract the weekday from 'event_time'\n",
    "data['weekday'] = data['event_time'].dt.dayofweek  # Monday=0, Sunday=6\n",
    "\n",
    "# Map weekdays to 'Weekday' or 'Weekend'\n",
    "data['day_type'] = data['weekday'].map({0: 'Weekday', 1: 'Weekday', 2: 'Weekday', 3: 'Weekday', 4: 'Weekday', 5: 'Weekend', 6: 'Weekend'})\n",
    "\n",
    "# Group the data by 'day_type' and calculate sales metrics\n",
    "sales_summary = data.groupby('day_type').agg({'price': 'sum', 'order_id': 'nunique'})\n",
    "\n",
    "# Rename columns for clarity\n",
    "sales_summary.rename(columns={'price': 'total_sales', 'order_id': 'total_orders'}, inplace=True)\n",
    "\n",
    "# Calculate average sales per order\n",
    "sales_summary['avg_sales_per_order'] = sales_summary['total_sales'] / sales_summary['total_orders']\n",
    "\n",
    "# Print the sales summary\n",
    "print(sales_summary)\n",
    "\n",
    "# Visualize the sales differences\n",
    "sales_summary.plot(kind='bar', y='total_sales', title='Total Sales by Day Type', ylabel='Total Sales ($)')\n",
    "plt.show()"
   ]
  },
  {
   "cell_type": "markdown",
   "metadata": {},
   "source": [
    "Problem Statement:13"
   ]
  },
  {
   "cell_type": "code",
   "execution_count": 33,
   "metadata": {},
   "outputs": [
    {
     "name": "stdout",
     "output_type": "stream",
     "text": [
      "category_code\n",
      "electronics.smartphone              32268998.26\n",
      "electronics.video.tv                11546709.57\n",
      "appliances.kitchen.refrigerators    10363140.29\n",
      "computers.notebook                   8716594.40\n",
      "appliances.kitchen.washer            7002348.34\n",
      "Name: price, dtype: float64\n"
     ]
    }
   ],
   "source": [
    "# Group by category_code and sum the revenue\n",
    "category_revenue = data.groupby('category_code')['price'].sum()\n",
    "\n",
    "# Sort categories by total revenue in descending order\n",
    "category_revenue_sorted = category_revenue.sort_values(ascending=False)\n",
    "\n",
    "# Print the top contributing categories\n",
    "print(category_revenue_sorted.head())"
   ]
  },
  {
   "cell_type": "markdown",
   "metadata": {},
   "source": [
    "Problem Statement:14"
   ]
  },
  {
   "cell_type": "code",
   "execution_count": 34,
   "metadata": {},
   "outputs": [
    {
     "name": "stdout",
     "output_type": "stream",
     "text": [
      "Categories experiencing a decline in sales:\n",
      "Index([], dtype='float64', name='category_id')\n"
     ]
    },
    {
     "name": "stderr",
     "output_type": "stream",
     "text": [
      "C:\\Users\\geeth\\AppData\\Local\\Temp\\ipykernel_8216\\2278740146.py:5: FutureWarning: 'M' is deprecated and will be removed in a future version, please use 'ME' instead.\n",
      "  category_sales_monthly = category_sales_pivot.resample('M').sum()\n"
     ]
    }
   ],
   "source": [
    " #Create a pivot table to aggregate sales by category and month\n",
    "category_sales_pivot = data.pivot_table(index='event_time', columns='category_id', aggfunc='size', fill_value=0)\n",
    "\n",
    "# Resample the data to monthly frequency and sum the sales for each category\n",
    "category_sales_monthly = category_sales_pivot.resample('M').sum()\n",
    "\n",
    "# Calculate the percentage change in sales for each category over the past 12 months\n",
    "percentage_change = category_sales_monthly.pct_change(periods=12)\n",
    "\n",
    "#Identify categories experiencing a decline in sales\n",
    "declining_categories = percentage_change.iloc[-1] < 0\n",
    "\n",
    "# Print the declining categories\n",
    "print(\"Categories experiencing a decline in sales:\")\n",
    "print(declining_categories[declining_categories].index)"
   ]
  },
  {
   "cell_type": "markdown",
   "metadata": {},
   "source": [
    "Problem Statement:15"
   ]
  },
  {
   "cell_type": "code",
   "execution_count": 35,
   "metadata": {},
   "outputs": [
    {
     "name": "stdout",
     "output_type": "stream",
     "text": [
      "         user_id       price\n",
      "cluster                     \n",
      "0          14931  119.142436\n",
      "1          53682  123.519503\n",
      "2           7038  837.516562\n"
     ]
    }
   ],
   "source": [
    "import pandas as pd\n",
    "from sklearn.cluster import KMeans\n",
    "from sklearn.preprocessing import StandardScaler\n",
    "\n",
    "# Drop rows with missing values\n",
    "data.dropna(inplace=True)\n",
    "\n",
    "# Check if all selected columns exist in the dataset\n",
    "selected_columns = ['user_id', 'product_id', 'price']\n",
    "missing_columns = [col for col in selected_columns if col not in data.columns]\n",
    "\n",
    "if missing_columns:\n",
    "    raise KeyError(f\"Column(s) {', '.join(missing_columns)} not found in the dataset.\")\n",
    "\n",
    "# Feature selection\n",
    "X = data[selected_columns]\n",
    "\n",
    "# Data normalization\n",
    "X_scaled = StandardScaler().fit_transform(X)\n",
    "\n",
    "# Perform KMeans clustering\n",
    "data['cluster'] = KMeans(n_clusters=3, random_state=42).fit_predict(X_scaled)\n",
    "\n",
    "# Analyze clusters\n",
    "cluster_summary = data.groupby('cluster').agg({'user_id': 'count', 'price': 'mean'})\n",
    "print(cluster_summary)"
   ]
  },
  {
   "cell_type": "markdown",
   "metadata": {},
   "source": [
    "# ML Statements"
   ]
  },
  {
   "cell_type": "markdown",
   "metadata": {},
   "source": [
    "To address the business problem of enhancing marketing strategy and customer experience in e-commerce using machine learning, we can employ unsupervised learning techniques such as clustering, specifically focusing on customer segmentation."
   ]
  },
  {
   "cell_type": "code",
   "execution_count": 46,
   "metadata": {},
   "outputs": [
    {
     "data": {
      "image/png": "[encoded data removed]",
      "text/plain": [
       "<Figure size 1000x600 with 1 Axes>"
      ]
     },
     "metadata": {},
     "output_type": "display_data"
    },
    {
     "name": "stdout",
     "output_type": "stream",
     "text": [
      "             order_id    product_id   category_id        price       user_id  \\\n",
      "cluster                                                                        \n",
      "0        2.339696e+18  1.682558e+18  2.271425e+18    68.426235  1.515920e+18   \n",
      "1        2.338271e+18  1.581037e+18  2.277895e+18  1062.955272  1.515920e+18   \n",
      "2        2.339133e+18  1.643845e+18  2.282704e+18   387.173043  1.515920e+18   \n",
      "\n",
      "          weekday  cluster  \n",
      "cluster                     \n",
      "0        3.123981      0.0  \n",
      "1        3.170472      1.0  \n",
      "2        3.240142      2.0  \n"
     ]
    }
   ],
   "source": [
    "# Select relevant features for clustering\n",
    "features = ['price', 'user_id']\n",
    "\n",
    "# Preprocess the data\n",
    "scaler = StandardScaler()\n",
    "scaled_data = scaler.fit_transform(data[features])\n",
    "\n",
    "# Define the number of clusters\n",
    "num_clusters = 3\n",
    "\n",
    "# Apply K-means clustering\n",
    "kmeans = KMeans(n_clusters=num_clusters, random_state=42)\n",
    "data['cluster'] = kmeans.fit_predict(scaled_data)\n",
    "\n",
    "# Visualize the clusters\n",
    "plt.figure(figsize=(10, 6))\n",
    "for cluster in range(num_clusters):\n",
    "    cluster_data = data[data['cluster'] == cluster]\n",
    "    plt.scatter(cluster_data['price'], cluster_data['user_id'], label=f'Cluster {cluster}')\n",
    "\n",
    "plt.xlabel('Price')\n",
    "plt.ylabel('User ID')\n",
    "plt.title('Clustering of Users based on Purchase Behavior')\n",
    "plt.legend()\n",
    "plt.show()\n",
    "\n",
    "# Analyze cluster characteristics\n",
    "numeric_columns = data.select_dtypes(include=['int', 'float']).columns\n",
    "cluster_means = data.groupby('cluster')[numeric_columns].mean()\n",
    "print(cluster_means)"
   ]
  },
  {
   "cell_type": "markdown",
   "metadata": {},
   "source": [
    "## ML Conclusion:"
   ]
  },
  {
   "cell_type": "markdown",
   "metadata": {},
   "source": [
    "### Clustering Results:\n",
    "\n",
    "The K-means algorithm divided customers into three distinct clusters based on their purchase behavior.\n",
    "Each cluster represents a group of customers with similar purchasing patterns and preferences.\n",
    "Visualizing the clusters in a scatter plot showed clear boundaries between clusters, indicating well-defined segments.\n",
    "### Cluster Characteristics:\n",
    "\n",
    "Cluster 0: This cluster may represent customers who make low-value purchases, as indicated by lower average prices. They might include occasional or price-sensitive buyers.\n",
    "Cluster 1: This cluster likely consists of customers who make high-value purchases, as indicated by higher average prices. They might be loyal or high-spending customers.\n",
    "Cluster 2: This cluster could represent customers with moderate purchasing behavior falling between Clusters 0 and 1 in terms of average prices.\n",
    "### Marketing Implications:\n",
    "\n",
    "Tailored Strategies: Based on the distinct characteristics of each cluster, marketers can develop tailored marketing strategies to engage customers more effectively.\n",
    "Personalized Offers: Understanding the preferences of each cluster allows for the creation of personalized offers and promotions to incentivize purchases.\n",
    "Customer Retention: Identifying high-value clusters enables focusing retention efforts on retaining these valuable customers, potentially through loyalty programs or exclusive benefits.\n",
    "### Further Analysis:\n",
    "\n",
    "Customer Profiling: Conducting more in-depth analysis, such as demographic profiling or product preferences within each cluster, can provide deeper insights into customer segments.\n",
    "Evaluation Metrics: Monitoring key performance metrics such as sales revenue, conversion rates, and customer satisfaction within each cluster helps assess the effectiveness of marketing strategies.\n",
    "Iterative Refinement: Continuously refine clustering models and marketing strategies based on feedback and evolving customer behavior to ensure relevance and effectiveness over time."
   ]
  }
 ],
 "metadata": {
  "kernelspec": {
   "display_name": ".env",
   "language": "python",
   "name": "python3"
  },
  "language_info": {
   "codemirror_mode": {
    "name": "ipython",
    "version": 3
   },
   "file_extension": ".py",
   "mimetype": "text/x-python",
   "name": "python",
   "nbconvert_exporter": "python",
   "pygments_lexer": "ipython3",
   "version": "3.12.1"
  }
 },
 "nbformat": 4,
 "nbformat_minor": 2
}
